{
 "cells": [
  {
   "cell_type": "code",
   "execution_count": null,
   "metadata": {},
   "outputs": [],
   "source": [
    "#assignment 2\n",
    "#task 1"
   ]
  },
  {
   "cell_type": "code",
   "execution_count": 21,
   "metadata": {},
   "outputs": [
    {
     "name": "stdout",
     "output_type": "stream",
     "text": [
      " Sum on list [1,2,3] using custom reduce function 6\n"
     ]
    }
   ],
   "source": [
    "1.1\n",
    "#Write a Python Program to implement your own myreduce() function which works exactly\n",
    "#like Python's built-in function reduce()\n",
    "def myreduce(anyfunc, sequence):\n",
    "    \n",
    "    result = sequence[0]\n",
    "    \n",
    "    for item in sequence[1:]:\n",
    "    \n",
    "        result = anyfunc(result, item)\n",
    "\n",
    "    return result\n",
    "\n",
    "def sum(x,y): \n",
    "    \n",
    "    return x + y\n",
    "\n",
    "\n",
    "print (\" Sum on list [1,2,3] using custom reduce function \" + str(myreduce(sum, [1,2,3])) )\n",
    "\n",
    "\n"
   ]
  },
  {
   "cell_type": "code",
   "execution_count": 23,
   "metadata": {},
   "outputs": [
    {
     "name": "stdout",
     "output_type": "stream",
     "text": [
      "Filter only positive Integers on list [0,1,-2,3,4,5] using custom filter function[1, 3, 4, 5]\n"
     ]
    }
   ],
   "source": [
    "1.2\n",
    "# Write a Python program to implement your own myfilter() function which works exactly\n",
    "#like Python's built-in function filter()\n",
    "def myfilter(anyfunc, sequence):\n",
    "    result = []\n",
    "    for item in sequence:\n",
    "        if anyfunc(item):\n",
    "            result.append(item)\n",
    "\n",
    "    return result\n",
    "\n",
    "def ispositive(x):\n",
    "    \n",
    "    if (x <= 0): \n",
    "        \n",
    "        return False \n",
    "    \n",
    "    else: \n",
    "        \n",
    "        return True\n",
    "print (\"Filter only positive Integers on list [0,1,-2,3,4,5] using custom filter function\"  + str(myfilter(ispositive, [0,1,-2,3,4,5])))\n",
    "\n"
   ]
  },
  {
   "cell_type": "code",
   "execution_count": 17,
   "metadata": {},
   "outputs": [
    {
     "name": "stdout",
     "output_type": "stream",
     "text": [
      "ACADGILD => ['A', 'C', 'A', 'D', 'G', 'I', 'L', 'D']\n",
      "['x','y','z'] => ['x', 'xx', 'xxx', 'xxxx', 'y', 'yy', 'yyy', 'yyyy', 'z', 'zz', 'zzz', 'zzzz']\n",
      "['x','y','z'] => ['x', 'y', 'z', 'xx', 'yy', 'zz', 'xxx', 'yyy', 'zzz', 'xxxx', 'yyyy', 'zzzz']\n",
      "[2,3,4] =>[[2], [3], [4], [3], [4], [5], [4], [5], [6]]\n",
      "[2,3,4,5] =>[[2, 3, 4, 5], [3, 4, 5, 6], [4, 5, 6, 7], [5, 6, 7, 8]]\n",
      "[1,2,3] =>[(1, 1), (2, 1), (3, 1), (1, 2), (2, 2), (3, 2), (1, 3), (2, 3), (3, 3)]\n"
     ]
    }
   ],
   "source": [
    "\n",
    "2.\n",
    "\n",
    "word = \"ACADGILD\"\n",
    "alphabet_list = [ alphabet for alphabet in word ]\n",
    "print (\"ACADGILD => \" + str(alphabet_list))\n",
    "\n",
    "\n",
    "input_list = ['x','y','z']\n",
    "result = [ item*num for item in input_list for num in range(1,5)  ]\n",
    "print(\"['x','y','z'] => \" +   str(result))\n",
    "\n",
    "input_list = ['x','y','z']\n",
    "result = [ item*num for num in range(1,5) for item in input_list  ]\n",
    "print(\"['x','y','z'] => \" +   str(result))\n",
    "\n",
    "input_list = [2,3,4]\n",
    "result = [ [item+num] for item in input_list for num in range(0,3)]\n",
    "print(\"[2,3,4] =>\" +  str(result))\n",
    "\n",
    "input_list = [2,3,4,5]\n",
    "result = [ [item+num for item in input_list] for num in range(0,4)  ]\n",
    "print(\"[2,3,4,5] =>\" +  str(result))\n",
    "\n",
    "input_list=[1,2,3]\n",
    "result = [ (b,a) for a in input_list for b in input_list]\n",
    "print(\"[1,2,3] =>\" +  str(result))\n",
    "\n",
    "    \n"
   ]
  },
  {
   "cell_type": "code",
   "execution_count": 1,
   "metadata": {},
   "outputs": [
    {
     "name": "stdout",
     "output_type": "stream",
     "text": [
      "program\n"
     ]
    }
   ],
   "source": [
    "3.\n",
    "def find_longest_word(words_list):\n",
    "    word_len = []\n",
    "    for a in words_list:\n",
    "        word_len.append((len(a), a))\n",
    "    word_len.sort()\n",
    "    return word_len[-1][1]\n",
    "\n",
    "print(find_longest_word([\"Python\", \"program\", \"jupyter\"]))"
   ]
  },
  {
   "cell_type": "code",
   "execution_count": 5,
   "metadata": {},
   "outputs": [
    {
     "name": "stdout",
     "output_type": "stream",
     "text": [
      "Enter the Side a :4\n",
      "Enter the Side b :5\n",
      "Enter the Side c :6\n",
      "The sides of triangle are a=4.0, b=5.0, c=6.0\n",
      "The Area of the triangle is 9.92\n"
     ]
    }
   ],
   "source": [
    "#TASK2\n",
    "# Python Program to find Area of a Triangle using Functions\n",
    "\n",
    "#Parent class\n",
    "class Triangle:\n",
    "    def __init__(self):\n",
    "        ''' This method has been used as an self constructor for Traingle class'''\n",
    "        number_of_sides=['a','b','c']\n",
    "        self.TriangleSides=number_of_sides\n",
    "        \n",
    "    def sides_Of_Triangle(self):\n",
    "        ''' This method will return sides of Traingle'''\n",
    "        self.sides_Of_Traingle=[input(\"Enter the Side \"+i+\" :\") for i in self.TriangleSides]\n",
    "        \n",
    "#Sub class       \n",
    "class Traingle_Area(Triangle):\n",
    "    def __init__(self):\n",
    "        '''This method will inherit properties and attrivutes fro Parent class \"Traingle\" and it's class \"TraingleArea\"  '''\n",
    "        Triangle.__init__(self)\n",
    "        \n",
    "    def area_Of_Triangle(self):\n",
    "        '''This method will return an Area of Triangle'''\n",
    "        \n",
    "        # Iterator has been created to iterate sides of triangle from collection\n",
    "        triangleSides=iter(self.sides_Of_Traingle)\n",
    "        a=float(next(triangleSides))\n",
    "        b=float(next(triangleSides))\n",
    "        c=float(next(triangleSides))      \n",
    "           \n",
    "        # Half-perimeter (s) of Triangle         \n",
    "        s= (a+b+c)*0.5        \n",
    "        # Area of Triangle         \n",
    "        Area = (s*(s-a)*(s-b)*(s-c))**0.5    \n",
    "        print(\"The sides of triangle are a=\"+str(a)+\", b=\"+str(b)+\", c=\"+str(c))     \n",
    "        Area = ('The Area of the triangle is %0.2f' %Area )\n",
    "        #return Area\n",
    "        print(Area)\n",
    "\n",
    "area_Of_Traingle = Traingle_Area()\n",
    "\n",
    "area_Of_Traingle.sides_Of_Triangle()\n",
    "\n",
    "area_Of_Traingle.area_Of_Triangle()"
   ]
  },
  {
   "cell_type": "code",
   "execution_count": 6,
   "metadata": {},
   "outputs": [
    {
     "name": "stdout",
     "output_type": "stream",
     "text": [
      "word lengths in array => [4, 2, 1, 9, 3]\n"
     ]
    }
   ],
   "source": [
    "\n",
    "wordlist = [\"This\", \"is\", \"a\", \"beautiful\", \"day\"]\n",
    "\n",
    "def wordlength(wordlist):\n",
    "    return list(map(lambda x: len(x), wordlist))\n",
    "\n",
    "print (\"word lengths in array => \" + str(wordlength(wordlist)))\n"
   ]
  },
  {
   "cell_type": "code",
   "execution_count": 15,
   "metadata": {},
   "outputs": [
    {
     "name": "stdout",
     "output_type": "stream",
     "text": [
      "[2, 3, 4]\n",
      "[2, 3, 4]\n"
     ]
    }
   ],
   "source": [
    "\n",
    "def map_to_lengths_for(words):\n",
    "    lengths = []\n",
    "    for word in words:\n",
    "        lengths.append(len(word))\n",
    "    return lengths\n",
    "\n",
    "\n",
    "def map_to_lengths_map(words):\n",
    "    return map(len, words)\n",
    "\n",
    "\n",
    "def map_to_lengths_lists(words):\n",
    "    return [len(word) for word in words]\n",
    "\n",
    "\n",
    "if __name__ == \"__main__\":\n",
    "    words = ['ab', 'cde', 'erty']\n",
    "    print(map_to_lengths_for(words))\n",
    "    list(map_to_lengths_map(words))\n",
    "    print(map_to_lengths_lists(words))"
   ]
  },
  {
   "cell_type": "code",
   "execution_count": 8,
   "metadata": {},
   "outputs": [
    {
     "name": "stdout",
     "output_type": "stream",
     "text": [
      "Enter character: e\n",
      "e is a vowel.\n"
     ]
    }
   ],
   "source": [
    "# Write a Python function which takes a character (i.e. a string of length 1) and returns True if\n",
    "#it is a vowel, False otherwise.\n",
    "\n",
    "def vowel_check(char):\n",
    "    if(char == 'a' or char == 'e' or char == 'i' or char == 'o' or char == 'u'):\n",
    "         return True\n",
    "    else:\n",
    "        return False\n",
    "\n",
    "# Take user input\n",
    "char = input(\"Enter character: \");\n",
    "\n",
    "# If Invalid input, exit\n",
    "if (char.isalpha() == False):\n",
    "     exit();\n",
    "\n",
    "# Invoke function\n",
    "if (vowel_check(char)):\n",
    "     print(char, \"is a vowel.\");\n",
    "else:\n",
    "     print(char, \"is not a vowel.\"); "
   ]
  },
  {
   "cell_type": "code",
   "execution_count": null,
   "metadata": {},
   "outputs": [],
   "source": []
  }
 ],
 "metadata": {
  "kernelspec": {
   "display_name": "Python 3",
   "language": "python",
   "name": "python3"
  },
  "language_info": {
   "codemirror_mode": {
    "name": "ipython",
    "version": 3
   },
   "file_extension": ".py",
   "mimetype": "text/x-python",
   "name": "python",
   "nbconvert_exporter": "python",
   "pygments_lexer": "ipython3",
   "version": "3.7.6"
  }
 },
 "nbformat": 4,
 "nbformat_minor": 4
}
