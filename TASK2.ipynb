{
 "cells": [
  {
   "cell_type": "code",
   "execution_count": 31,
   "metadata": {},
   "outputs": [
    {
     "name": "stdout",
     "output_type": "stream",
     "text": [
      "From a comma-separated list of numbers get:12,34,56,78,890,876,5\n",
      "['12', '34', '56', '78', '890', '876', '5']\n"
     ]
    }
   ],
   "source": [
    "#TASK 2\n",
    "#1\n",
    "#Write a program which accepts a sequence of comma-separated numbers from console and generate a list.\n",
    "\n",
    "\n",
    "\n",
    "lis=input(\"From a comma-separated list of numbers get:\")\n",
    "\n",
    "lis=lis.split(\",\")\n",
    "\n",
    "\n",
    "print(lis)\n"
   ]
  },
  {
   "cell_type": "code",
   "execution_count": 33,
   "metadata": {},
   "outputs": [
    {
     "name": "stdout",
     "output_type": "stream",
     "text": [
      "how many numbers you want in a list: 15\n"
     ]
    },
    {
     "data": {
      "text/plain": [
       "[0, 1, 2, 3, 4, 5, 6, 7, 8, 9, 10, 11, 12, 13, 14]"
      ]
     },
     "execution_count": 33,
     "metadata": {},
     "output_type": "execute_result"
    }
   ],
   "source": [
    "#1 another method\n",
    "a=int(input(\"how many numbers you want in a list: \"))\n",
    "list(range(a))\n"
   ]
  },
  {
   "cell_type": "code",
   "execution_count": 12,
   "metadata": {},
   "outputs": [
    {
     "name": "stdout",
     "output_type": "stream",
     "text": [
      "\n",
      "* \n",
      "* * \n",
      "* * * \n",
      "* * * * \n",
      "* * * * * \n",
      "* * * * \n",
      "* * * \n",
      "* * \n",
      "* \n"
     ]
    }
   ],
   "source": [
    "#2\n",
    "#Create the  pattern using nested for loop in Python. \n",
    "\n",
    "n=5;\n",
    "for i in range(n):\n",
    "    for j in range(i):\n",
    "        print ('* ', end=\"\")\n",
    "    print('')\n",
    "\n",
    "for i in range(n,0,-1): \n",
    "    for j in range(i):\n",
    "        print('* ', end=\"\")\n",
    "    print('')"
   ]
  },
  {
   "cell_type": "code",
   "execution_count": 34,
   "metadata": {},
   "outputs": [
    {
     "name": "stdout",
     "output_type": "stream",
     "text": [
      "enter your word to reverse:DAD I M BUSY\n",
      "YSUB M I DAD\n",
      "\n"
     ]
    }
   ],
   "source": [
    "#3\n",
    "#Write a Python program to reverse a word after accepting the input from the user. \n",
    "\n",
    "\n",
    "word=input(\"enter your word to reverse:\")\n",
    "\n",
    "for i in range(len(word)-1,-1,-1):\n",
    "    print(word[i],end=\"\")\n",
    "print(\"\\n\")"
   ]
  },
  {
   "cell_type": "code",
   "execution_count": 32,
   "metadata": {},
   "outputs": [
    {
     "name": "stdout",
     "output_type": "stream",
     "text": [
      "WE, THE PEOPLE OF INDIA,having solemnly resolved to constitute\n",
      "           India into a SOVEREIGN, !  SOCIALIST, SECULAR,\n",
      "           DEMOCRATIC REPUBLIC\n",
      "                and to secure to all its citizens\n"
     ]
    }
   ],
   "source": [
    "#4\n",
    "#Write a Python Program to print the given string in the format specified\n",
    "print('''WE, THE PEOPLE OF INDIA,having solemnly resolved to constitute\n",
    "           India into a SOVEREIGN, !  SOCIALIST, SECULAR,\n",
    "           DEMOCRATIC REPUBLIC\n",
    "                and to secure to all its citizens''')"
   ]
  },
  {
   "cell_type": "code",
   "execution_count": null,
   "metadata": {},
   "outputs": [],
   "source": []
  },
  {
   "cell_type": "code",
   "execution_count": null,
   "metadata": {},
   "outputs": [],
   "source": []
  },
  {
   "cell_type": "code",
   "execution_count": null,
   "metadata": {},
   "outputs": [],
   "source": []
  }
 ],
 "metadata": {
  "kernelspec": {
   "display_name": "Python 3",
   "language": "python",
   "name": "python3"
  },
  "language_info": {
   "codemirror_mode": {
    "name": "ipython",
    "version": 3
   },
   "file_extension": ".py",
   "mimetype": "text/x-python",
   "name": "python",
   "nbconvert_exporter": "python",
   "pygments_lexer": "ipython3",
   "version": "3.7.6"
  }
 },
 "nbformat": 4,
 "nbformat_minor": 4
}
