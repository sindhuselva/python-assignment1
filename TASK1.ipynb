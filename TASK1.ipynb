{
 "cells": [
  {
   "cell_type": "code",
   "execution_count": 1,
   "metadata": {},
   "outputs": [],
   "source": [
    "#TASK 1 \n",
    " #1\n",
    "#install jupyter notebook \n",
    "\n",
    "#succesfully installed\n",
    "        \n",
    "    "
   ]
  },
  {
   "cell_type": "code",
   "execution_count": null,
   "metadata": {},
   "outputs": [],
   "source": [
    "#2\n",
    "#Write a program which will find all such numbers which are divisible by 7 but are not a multiple\n",
    "#of 5, between 2000 and 3200 (both included). The numbers obtained should be printed in a\n",
    "#comma-separated sequence on a single line\n",
    "\n",
    "\n",
    "list1=[]\n",
    "#x=2000\n",
    "#y=3200\n",
    "for i in range(1999,3200):\n",
    "    if (i%7==0) and (i%5!=0):\n",
    "        list1.append(i)\n",
    "print(list1)"
   ]
  },
  {
   "cell_type": "code",
   "execution_count": 1,
   "metadata": {},
   "outputs": [
    {
     "name": "stdout",
     "output_type": "stream",
     "text": [
      "enter your 1st name: sindhuja\n",
      "enter your last name: selvaraj\n",
      "selvaraj sindhuja\n"
     ]
    }
   ],
   "source": [
    "#3\n",
    "#Write a Python program to accept the user's first and last name and then getting them printed in\n",
    "#the the reverse order with a space between first name and last name.\n",
    "\n",
    "firstname=input(\"enter your 1st name: \")\n",
    "lastname=input(\"enter your last name: \")\n",
    "print(lastname+\" \"+firstname)\n",
    "\n",
    "\n",
    "\n"
   ]
  },
  {
   "cell_type": "code",
   "execution_count": 6,
   "metadata": {},
   "outputs": [
    {
     "name": "stdout",
     "output_type": "stream",
     "text": [
      "enter your 1st name: sindhu\n",
      "enter your last name: selva\n",
      "selva sindhu\n"
     ]
    }
   ],
   "source": [
    "\n",
    "#3   2nd type\n",
    "name=[]\n",
    "name.append(input(\"enter your 1st name: \"))\n",
    "name.append(input(\"enter your last name: \"))\n",
    "print(' '.join(name[::-1]))\n"
   ]
  },
  {
   "cell_type": "code",
   "execution_count": 9,
   "metadata": {},
   "outputs": [
    {
     "name": "stdout",
     "output_type": "stream",
     "text": [
      "904.3199999999999\n"
     ]
    }
   ],
   "source": [
    "#4\n",
    "#Write a Python program to find the volume of a sphere with diameter 12 cm.Formula: V=4/3 * π * r3\n",
    "\n",
    "\n",
    "d=12\n",
    "r=d/2\n",
    "\n",
    "v=4/3*3.14*(r**3)\n",
    "print(v)"
   ]
  },
  {
   "cell_type": "code",
   "execution_count": null,
   "metadata": {},
   "outputs": [],
   "source": []
  }
 ],
 "metadata": {
  "kernelspec": {
   "display_name": "Python 3",
   "language": "python",
   "name": "python3"
  },
  "language_info": {
   "codemirror_mode": {
    "name": "ipython",
    "version": 3
   },
   "file_extension": ".py",
   "mimetype": "text/x-python",
   "name": "python",
   "nbconvert_exporter": "python",
   "pygments_lexer": "ipython3",
   "version": "3.7.6"
  }
 },
 "nbformat": 4,
 "nbformat_minor": 4
}
